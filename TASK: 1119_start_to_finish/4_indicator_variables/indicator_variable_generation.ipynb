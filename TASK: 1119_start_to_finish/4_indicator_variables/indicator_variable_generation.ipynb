{
 "cells": [
  {
   "cell_type": "code",
   "execution_count": 1,
   "metadata": {},
   "outputs": [],
   "source": [
    "import pandas as pd\n",
    "import numpy as np\n",
    "import seaborn as sns\n",
    "from sklearn.ensemble import RandomForestRegressor\n",
    "import matplotlib.pyplot as plt\n",
    "from sklearn.feature_selection import RFE, SequentialFeatureSelector\n",
    "from sklearn.linear_model import LinearRegression\n",
    "from sklearn.preprocessing import StandardScaler\n",
    "from tqdm import tqdm  # For progress display"
   ]
  },
  {
   "cell_type": "markdown",
   "metadata": {},
   "source": [
    "This code processes a dataset by selecting specific columns, applying one-hot encoding to the GEO_ID variable, and saving the updated data for further analysis. It combines manually defined and pre-selected features, ensures the inclusion of key identifiers like GEO_ID and Year, and generates indicator variables for geographic data to enhance model usability."
   ]
  },
  {
   "cell_type": "code",
   "execution_count": 4,
   "metadata": {},
   "outputs": [
    {
     "name": "stdout",
     "output_type": "stream",
     "text": [
      "Columns in the DataFrame after adding one-hot encoding for GEO_ID:\n",
      "Index(['AVG_COMMUTE_TIME', 'P_3PLUS_VEHICLES', 'P_HH_VALUE_1MIL_PLUS',\n",
      "       'P_WORK_FINANCE', 'P_WORK_INFORMATION', 'TOT_HH', 'P_3_BEDROOMS',\n",
      "       'TOT_POPULATION', 'P_WORK_PROFESSIONAL', 'P_1_BEDROOM',\n",
      "       ...\n",
      "       'GEO_ID_1600000US4837000', 'GEO_ID_1600000US4865000',\n",
      "       'GEO_ID_1600000US5157000', 'GEO_ID_1600000US5167000',\n",
      "       'GEO_ID_1600000US5182000', 'GEO_ID_1600000US5363000',\n",
      "       'GEO_ID_1600000US5370000', 'GEO_ID_1600000US5374060',\n",
      "       'GEO_ID_1600000US5548000', 'GEO_ID_1600000US5553000'],\n",
      "      dtype='object', length=128)\n",
      "Data with GEO_ID indicators saved to '/Users/avakrocheski-meyer/Downloads/TASK: 1119_start_to_finish/4_indicator_variables/geo_indicators.csv'.\n"
     ]
    }
   ],
   "source": [
    "import pandas as pd\n",
    "\n",
    "# File paths (remember to change selected_features_based_on_what_we're calculated)\n",
    "selected_features_path = \"/Users/avakrocheski-meyer/Downloads/TASK: 1119_start_to_finish/3_feature_selection/Subset_4.csv\"\n",
    "data_path = \"/Users/avakrocheski-meyer/Downloads/TASK: 1119_start_to_finish/2_feature_standardization/final_data_transformed.csv\"\n",
    "output_path = \"/Users/avakrocheski-meyer/Downloads/TASK: 1119_start_to_finish/4_indicator_variables/geo_indicators.csv\"\n",
    "\n",
    "# Load the selected features file\n",
    "selected_features_df = pd.read_csv(selected_features_path)\n",
    "selected_columns = selected_features_df['Features'].tolist()  # Adjust column name if different\n",
    "\n",
    "# Manually add our desired lags\n",
    "columns_to_process = ['TOT_HH', 'CIV_POP_18+', 'TOT_CIV_POP', 'CIV_POP_16', 'TOT_HOUSING_UNITS', 'TOT_POPULATION', 'target_TOT_POPULATION']\n",
    "selected_columns = list(set(selected_columns + columns_to_process))\n",
    "\n",
    "# Ensure 'GEO_ID' and 'Year' are included in the list of selected columns\n",
    "selected_columns.extend(['GEO_ID', 'Year'])\n",
    "\n",
    "# Load the transformed data file with only the selected columns\n",
    "data_df = pd.read_csv(data_path)\n",
    "filtered_data_df = data_df[selected_columns]\n",
    "\n",
    "# Create one-hot encoded columns for the 'GEO_ID' variable\n",
    "geo_id_dummies = pd.get_dummies(filtered_data_df['GEO_ID'], prefix='GEO_ID')\n",
    "\n",
    "# Concatenate the one-hot encoded columns with the original filtered DataFrame\n",
    "filtered_data_with_dummies = pd.concat([filtered_data_df, geo_id_dummies], axis=1)\n",
    "\n",
    "# Verify that the one-hot encoded columns are added\n",
    "print(\"Columns in the DataFrame after adding one-hot encoding for GEO_ID:\")\n",
    "print(filtered_data_with_dummies.columns)\n",
    "\n",
    "# Save the updated DataFrame to a new CSV file (without filtering out rows where Year is 2010)\n",
    "filtered_data_with_dummies.to_csv(output_path, index=False)\n",
    "print(f\"Data with GEO_ID indicators saved to '{output_path}'.\")\n"
   ]
  }
 ],
 "metadata": {
  "kernelspec": {
   "display_name": "Python 3",
   "language": "python",
   "name": "python3"
  },
  "language_info": {
   "codemirror_mode": {
    "name": "ipython",
    "version": 3
   },
   "file_extension": ".py",
   "mimetype": "text/x-python",
   "name": "python",
   "nbconvert_exporter": "python",
   "pygments_lexer": "ipython3",
   "version": "3.12.0"
  }
 },
 "nbformat": 4,
 "nbformat_minor": 2
}
