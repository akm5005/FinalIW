{
 "cells": [
  {
   "cell_type": "markdown",
   "metadata": {},
   "source": [
    "This script prepares and processes census data for analysis by creating lagged population variables and modifying metadata and data files to support feature engineering."
   ]
  },
  {
   "cell_type": "code",
   "execution_count": 2,
   "metadata": {},
   "outputs": [
    {
     "name": "stdout",
     "output_type": "stream",
     "text": [
      "              GEO_ID  Year  target_TOT_POPULATION  TOT_POPULATION\n",
      "0   1600000US0203000  2010               295570.0        293227.0\n",
      "1   1600000US0203000  2011               298610.0        295570.0\n",
      "2   1600000US0203000  2012               300950.0        298610.0\n",
      "3   1600000US0203000  2013               301010.0        300950.0\n",
      "4   1600000US0203000  2014               298695.0        301010.0\n",
      "5   1600000US0203000  2015               298192.0        298695.0\n",
      "6   1600000US0203000  2016               294356.0        298192.0\n",
      "7   1600000US0203000  2017               291538.0        294356.0\n",
      "8   1600000US0203000  2018               288000.0        291538.0\n",
      "9   1600000US0203000  2019                    NaN        288000.0\n",
      "10  1600000US0427820  2010               230466.0        227358.0\n",
      "11  1600000US0427820  2011               232118.0        230466.0\n",
      "12  1600000US0427820  2012               234618.0        232118.0\n",
      "13  1600000US0427820  2013               237529.0        234618.0\n",
      "14  1600000US0427820  2014               240114.0        237529.0\n",
      "15  1600000US0427820  2015               245849.0        240114.0\n",
      "16  1600000US0427820  2016               246708.0        245849.0\n",
      "17  1600000US0427820  2017               250705.0        246708.0\n",
      "18  1600000US0427820  2018               252384.0        250705.0\n",
      "19  1600000US0427820  2019                    NaN        252384.0\n",
      "For now, output variable shifted one left; lagged variable created.\n"
     ]
    }
   ],
   "source": [
    "import pandas as pd\n",
    "\n",
    "\n",
    "# Paths to the original files\n",
    "metadata_path = \"/Users/avakrocheski-meyer/Downloads/TASK: 1119_start_to_finish/0_raw_data/final_metadata.csv\"\n",
    "data_sorted_path = \"/Users/avakrocheski-meyer/Downloads/TASK: 1119_start_to_finish/0_raw_data/final_data_sorted.csv\"\n",
    "\n",
    "# Paths to save the modified files\n",
    "final_metadata_path = \"/Users/avakrocheski-meyer/Downloads/TASK: 1119_start_to_finish/1_feature_filtering/final_metadata.csv\"\n",
    "final_data_path = \"/Users/avakrocheski-meyer/Downloads/TASK: 1119_start_to_finish/1_feature_filtering/final_data.csv\"\n",
    "\n",
    "# Load metadata and data files\n",
    "df_metadata = pd.read_csv(metadata_path)\n",
    "df = pd.read_csv(data_sorted_path)\n",
    "\n",
    "# Create a lagged variable for population\n",
    "# Duplicate TOT_POPULATION into a new column target_TOT_POPULATION\n",
    "df['target_TOT_POPULATION'] = df['TOT_POPULATION']\n",
    "\n",
    "# Shift TOT_POPULATION forward by one year within each GEO_ID group\n",
    "df['target_TOT_POPULATION'] = df.groupby('GEO_ID')['target_TOT_POPULATION'].shift(-1)\n",
    "\n",
    "# Debugging check: Print the first 20 rows to verify changes\n",
    "print(df[['GEO_ID', 'Year', 'target_TOT_POPULATION', 'TOT_POPULATION']].head(20))\n",
    "\n",
    "# Save the modified metadata file\n",
    "df_metadata.to_csv(final_metadata_path, index=False)\n",
    "\n",
    "# Save the modified data file\n",
    "df.to_csv(final_data_path, index=False)\n",
    "\n",
    "# Load the data_sorted file\n",
    "df_data_sorted = pd.read_csv(data_sorted_path)\n",
    "\n",
    "# Debugging note for future development\n",
    "print(\"For now, output variable shifted one left; lagged variable created.\")"
   ]
  }
 ],
 "metadata": {
  "kernelspec": {
   "display_name": "Python 3",
   "language": "python",
   "name": "python3"
  },
  "language_info": {
   "codemirror_mode": {
    "name": "ipython",
    "version": 3
   },
   "file_extension": ".py",
   "mimetype": "text/x-python",
   "name": "python",
   "nbconvert_exporter": "python",
   "pygments_lexer": "ipython3",
   "version": "3.12.0"
  }
 },
 "nbformat": 4,
 "nbformat_minor": 2
}
