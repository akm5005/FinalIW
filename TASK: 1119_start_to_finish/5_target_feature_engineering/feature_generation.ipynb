{
 "cells": [
  {
   "cell_type": "markdown",
   "metadata": {},
   "source": [
    "This code calculates a 3-year rolling average of TOT_POPULATION grouped by GEO_ID, adds it to the dataset, and saves the updated data to a new CSV file."
   ]
  },
  {
   "cell_type": "code",
   "execution_count": 1,
   "metadata": {},
   "outputs": [
    {
     "name": "stdout",
     "output_type": "stream",
     "text": [
      "             GEO_ID  Year  TOT_POPULATION  target_TOT_POPULATION  \\\n",
      "0  1600000US0203000  2010       -0.451231              12.596661   \n",
      "1  1600000US0203000  2011       -0.440367              12.606894   \n",
      "2  1600000US0203000  2012       -0.426400              12.614699   \n",
      "3  1600000US0203000  2013       -0.415746              12.614899   \n",
      "4  1600000US0203000  2014       -0.415474              12.607178   \n",
      "5  1600000US0203000  2015       -0.426012              12.605493   \n",
      "6  1600000US0203000  2016       -0.428312              12.592545   \n",
      "7  1600000US0203000  2017       -0.445985              12.582926   \n",
      "8  1600000US0203000  2018       -0.459115              12.570716   \n",
      "9  1600000US0203000  2019       -0.475781                    NaN   \n",
      "\n",
      "   TOT_POPULATION_3YR_ROLLING  \n",
      "0                   -0.451231  \n",
      "1                   -0.445799  \n",
      "2                   -0.439333  \n",
      "3                   -0.427505  \n",
      "4                   -0.419207  \n",
      "5                   -0.419077  \n",
      "6                   -0.423266  \n",
      "7                   -0.433436  \n",
      "8                   -0.444471  \n",
      "9                   -0.460294  \n",
      "Updated data saved to target\n"
     ]
    }
   ],
   "source": [
    "import pandas as pd\n",
    "\n",
    "# Load the data\n",
    "data_path = \"/Users/avakrocheski-meyer/Downloads/TASK: 1119_start_to_finish/4_indicator_variables/geo_indicators.csv\"\n",
    "df = pd.read_csv(data_path)\n",
    "\n",
    "# Sort the data by GEO_ID and Year\n",
    "df = df.sort_values(by=['GEO_ID', 'Year'])\n",
    "\n",
    "# Use lagged TOT_POPULATION to compute a 3-year rolling average\n",
    "df['TOT_POPULATION_3YR_ROLLING'] = (\n",
    "    df.groupby('GEO_ID')['TOT_POPULATION']\n",
    "    .transform(lambda x: x.rolling(window=3, min_periods=1).mean())\n",
    ")\n",
    "\n",
    "# Debugging: Display a sample\n",
    "print(df[['GEO_ID', 'Year', 'TOT_POPULATION', 'target_TOT_POPULATION', 'TOT_POPULATION_3YR_ROLLING']].head(10))\n",
    "\n",
    "# Save the updated DataFrame\n",
    "output_path = \"/Users/avakrocheski-meyer/Downloads/TASK: 1119_start_to_finish/5_target_feature_engineering/target_features.csv\"\n",
    "df.to_csv(output_path, index=False)\n",
    "print(f\"Updated data saved to target\")"
   ]
  }
 ],
 "metadata": {
  "kernelspec": {
   "display_name": "Python 3",
   "language": "python",
   "name": "python3"
  },
  "language_info": {
   "codemirror_mode": {
    "name": "ipython",
    "version": 3
   },
   "file_extension": ".py",
   "mimetype": "text/x-python",
   "name": "python",
   "nbconvert_exporter": "python",
   "pygments_lexer": "ipython3",
   "version": "3.12.0"
  }
 },
 "nbformat": 4,
 "nbformat_minor": 2
}
